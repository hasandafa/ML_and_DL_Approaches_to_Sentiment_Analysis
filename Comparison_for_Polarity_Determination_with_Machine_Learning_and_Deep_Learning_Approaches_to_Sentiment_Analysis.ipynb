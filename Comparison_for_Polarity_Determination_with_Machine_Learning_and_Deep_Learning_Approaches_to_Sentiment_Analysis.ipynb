{
  "cells": [
    {
      "cell_type": "markdown",
      "id": "3d6a7853",
      "metadata": {
        "id": "3d6a7853"
      },
      "source": [
        "# SETUP"
      ]
    },
    {
      "cell_type": "code",
      "execution_count": null,
      "id": "004a9575",
      "metadata": {
        "id": "004a9575"
      },
      "outputs": [],
      "source": [
        "import pandas as pd\n",
        "import numpy as np\n",
        "import nltk\n",
        "import matplotlib.pyplot as plt\n",
        "%matplotlib inline"
      ]
    },
    {
      "cell_type": "code",
      "execution_count": null,
      "id": "c613d3d4",
      "metadata": {
        "id": "c613d3d4"
      },
      "outputs": [],
      "source": [
        "link = 'https://raw.githubusercontent.com/rizalespe/Dataset-Sentimen-Analisis-Bahasa-Indonesia/master/dataset_komentar_instagram_cyberbullying.csv'"
      ]
    },
    {
      "cell_type": "code",
      "execution_count": null,
      "id": "75ba1a64",
      "metadata": {
        "id": "75ba1a64",
        "outputId": "0d26868b-ca99-4d2b-dae4-1f3b1d77af00"
      },
      "outputs": [
        {
          "data": {
            "text/html": [
              "<div>\n",
              "<style scoped>\n",
              "    .dataframe tbody tr th:only-of-type {\n",
              "        vertical-align: middle;\n",
              "    }\n",
              "\n",
              "    .dataframe tbody tr th {\n",
              "        vertical-align: top;\n",
              "    }\n",
              "\n",
              "    .dataframe thead th {\n",
              "        text-align: right;\n",
              "    }\n",
              "</style>\n",
              "<table border=\"1\" class=\"dataframe\">\n",
              "  <thead>\n",
              "    <tr style=\"text-align: right;\">\n",
              "      <th></th>\n",
              "      <th>Id</th>\n",
              "      <th>Sentiment</th>\n",
              "      <th>Instagram Comment Text</th>\n",
              "    </tr>\n",
              "  </thead>\n",
              "  <tbody>\n",
              "    <tr>\n",
              "      <th>0</th>\n",
              "      <td>1</td>\n",
              "      <td>negative</td>\n",
              "      <td>&lt;USERNAME&gt; TOLOL!! Gak ada hubungan nya kegug...</td>\n",
              "    </tr>\n",
              "    <tr>\n",
              "      <th>1</th>\n",
              "      <td>2</td>\n",
              "      <td>negative</td>\n",
              "      <td>Geblek lo tata...cowo bgt dibela2in balikan......</td>\n",
              "    </tr>\n",
              "    <tr>\n",
              "      <th>2</th>\n",
              "      <td>3</td>\n",
              "      <td>negative</td>\n",
              "      <td>Kmrn termewek2 skr lengket lg duhhh kok labil ...</td>\n",
              "    </tr>\n",
              "    <tr>\n",
              "      <th>3</th>\n",
              "      <td>4</td>\n",
              "      <td>negative</td>\n",
              "      <td>Intinya kalau kesel dengan ATT nya, gausah ke ...</td>\n",
              "    </tr>\n",
              "    <tr>\n",
              "      <th>4</th>\n",
              "      <td>5</td>\n",
              "      <td>negative</td>\n",
              "      <td>hadewwwww permpuan itu lg!!!!sakit jiwa,knp ha...</td>\n",
              "    </tr>\n",
              "  </tbody>\n",
              "</table>\n",
              "</div>"
            ],
            "text/plain": [
              "   Id Sentiment                             Instagram Comment Text\n",
              "0   1  negative   <USERNAME> TOLOL!! Gak ada hubungan nya kegug...\n",
              "1   2  negative  Geblek lo tata...cowo bgt dibela2in balikan......\n",
              "2   3  negative  Kmrn termewek2 skr lengket lg duhhh kok labil ...\n",
              "3   4  negative  Intinya kalau kesel dengan ATT nya, gausah ke ...\n",
              "4   5  negative  hadewwwww permpuan itu lg!!!!sakit jiwa,knp ha..."
            ]
          },
          "execution_count": 4,
          "metadata": {},
          "output_type": "execute_result"
        }
      ],
      "source": [
        "data = pd.read_csv(link)\n",
        "data.head()"
      ]
    },
    {
      "cell_type": "code",
      "execution_count": null,
      "id": "490d6b8a",
      "metadata": {
        "id": "490d6b8a",
        "outputId": "fcf504bc-a6aa-44e0-8966-7f12db451047"
      },
      "outputs": [
        {
          "name": "stdout",
          "output_type": "stream",
          "text": [
            "Jumlah komentar: 400 data\n",
            "\n",
            "terdiri dari (label):\n",
            "-- [0] Negative\t: 200 data\n",
            "-- [1] Positive\t: 200 data\n"
          ]
        }
      ],
      "source": [
        "# Eksplorasi data untuk mengetahui sebaran data\n",
        "print('Comments count:', data.shape[0], 'data\\n')\n",
        "print('terdiri dari (label):')\n",
        "print('-- [0] Negative\\t:', data[data.Sentiment == 'negative'].shape[0], 'data')\n",
        "print('-- [1] Positive\\t:', data[data.Sentiment == 'positive'].shape[0], 'data')"
      ]
    },
    {
      "cell_type": "code",
      "execution_count": null,
      "id": "952a2c2a",
      "metadata": {
        "id": "952a2c2a",
        "outputId": "383453af-cd55-45c3-e6ba-50643e4de973"
      },
      "outputs": [
        {
          "name": "stdout",
          "output_type": "stream",
          "text": [
            "<class 'pandas.core.frame.DataFrame'>\n",
            "RangeIndex: 400 entries, 0 to 399\n",
            "Data columns (total 3 columns):\n",
            " #   Column                  Non-Null Count  Dtype \n",
            "---  ------                  --------------  ----- \n",
            " 0   Id                      400 non-null    int64 \n",
            " 1   Sentiment               400 non-null    object\n",
            " 2   Instagram Comment Text  400 non-null    object\n",
            "dtypes: int64(1), object(2)\n",
            "memory usage: 9.5+ KB\n"
          ]
        }
      ],
      "source": [
        "data.info()"
      ]
    },
    {
      "cell_type": "code",
      "execution_count": null,
      "id": "3af6a34c",
      "metadata": {
        "id": "3af6a34c",
        "outputId": "1e606e00-4d87-49b0-a452-1f3ceb66547a"
      },
      "outputs": [
        {
          "data": {
            "text/html": [
              "<div>\n",
              "<style scoped>\n",
              "    .dataframe tbody tr th:only-of-type {\n",
              "        vertical-align: middle;\n",
              "    }\n",
              "\n",
              "    .dataframe tbody tr th {\n",
              "        vertical-align: top;\n",
              "    }\n",
              "\n",
              "    .dataframe thead th {\n",
              "        text-align: right;\n",
              "    }\n",
              "</style>\n",
              "<table border=\"1\" class=\"dataframe\">\n",
              "  <thead>\n",
              "    <tr style=\"text-align: right;\">\n",
              "      <th></th>\n",
              "      <th>id</th>\n",
              "      <th>label</th>\n",
              "      <th>text</th>\n",
              "    </tr>\n",
              "  </thead>\n",
              "  <tbody>\n",
              "    <tr>\n",
              "      <th>0</th>\n",
              "      <td>1</td>\n",
              "      <td>0</td>\n",
              "      <td>&lt;USERNAME&gt; TOLOL!! Gak ada hubungan nya kegug...</td>\n",
              "    </tr>\n",
              "    <tr>\n",
              "      <th>1</th>\n",
              "      <td>2</td>\n",
              "      <td>0</td>\n",
              "      <td>Geblek lo tata...cowo bgt dibela2in balikan......</td>\n",
              "    </tr>\n",
              "    <tr>\n",
              "      <th>2</th>\n",
              "      <td>3</td>\n",
              "      <td>0</td>\n",
              "      <td>Kmrn termewek2 skr lengket lg duhhh kok labil ...</td>\n",
              "    </tr>\n",
              "    <tr>\n",
              "      <th>3</th>\n",
              "      <td>4</td>\n",
              "      <td>0</td>\n",
              "      <td>Intinya kalau kesel dengan ATT nya, gausah ke ...</td>\n",
              "    </tr>\n",
              "    <tr>\n",
              "      <th>4</th>\n",
              "      <td>5</td>\n",
              "      <td>0</td>\n",
              "      <td>hadewwwww permpuan itu lg!!!!sakit jiwa,knp ha...</td>\n",
              "    </tr>\n",
              "    <tr>\n",
              "      <th>...</th>\n",
              "      <td>...</td>\n",
              "      <td>...</td>\n",
              "      <td>...</td>\n",
              "    </tr>\n",
              "    <tr>\n",
              "      <th>395</th>\n",
              "      <td>396</td>\n",
              "      <td>1</td>\n",
              "      <td>Bangga sama suami yg selalu ingat istri disela...</td>\n",
              "    </tr>\n",
              "    <tr>\n",
              "      <th>396</th>\n",
              "      <td>397</td>\n",
              "      <td>1</td>\n",
              "      <td>Apaoun pekerjaannya yg penting halal u tuk men...</td>\n",
              "    </tr>\n",
              "    <tr>\n",
              "      <th>397</th>\n",
              "      <td>398</td>\n",
              "      <td>1</td>\n",
              "      <td>Gojek itu mayoritas pegangguran yang lama gak ...</td>\n",
              "    </tr>\n",
              "    <tr>\n",
              "      <th>398</th>\n",
              "      <td>399</td>\n",
              "      <td>1</td>\n",
              "      <td>&lt;USERNAME&gt; aslinya cantik dan ayu loh mbak kr...</td>\n",
              "    </tr>\n",
              "    <tr>\n",
              "      <th>399</th>\n",
              "      <td>400</td>\n",
              "      <td>1</td>\n",
              "      <td>&lt;USERNAME&gt; suami saya seumuran sama saya mba,...</td>\n",
              "    </tr>\n",
              "  </tbody>\n",
              "</table>\n",
              "<p>400 rows × 3 columns</p>\n",
              "</div>"
            ],
            "text/plain": [
              "      id  label                                               text\n",
              "0      1      0   <USERNAME> TOLOL!! Gak ada hubungan nya kegug...\n",
              "1      2      0  Geblek lo tata...cowo bgt dibela2in balikan......\n",
              "2      3      0  Kmrn termewek2 skr lengket lg duhhh kok labil ...\n",
              "3      4      0  Intinya kalau kesel dengan ATT nya, gausah ke ...\n",
              "4      5      0  hadewwwww permpuan itu lg!!!!sakit jiwa,knp ha...\n",
              "..   ...    ...                                                ...\n",
              "395  396      1  Bangga sama suami yg selalu ingat istri disela...\n",
              "396  397      1  Apaoun pekerjaannya yg penting halal u tuk men...\n",
              "397  398      1  Gojek itu mayoritas pegangguran yang lama gak ...\n",
              "398  399      1   <USERNAME> aslinya cantik dan ayu loh mbak kr...\n",
              "399  400      1   <USERNAME> suami saya seumuran sama saya mba,...\n",
              "\n",
              "[400 rows x 3 columns]"
            ]
          },
          "execution_count": 7,
          "metadata": {},
          "output_type": "execute_result"
        }
      ],
      "source": [
        "# Merubah nama kolom\n",
        "data = data.rename(columns={'Id': 'id', 'Sentiment': 'label', 'Instagram Comment Text': 'text'})\n",
        "# Konversi Label dari String ke Interger\n",
        "data['label'] = data['label'].replace({'positive': 1, 'negative': 0})\n",
        "\n",
        "data"
      ]
    },
    {
      "cell_type": "markdown",
      "id": "48cca5ab",
      "metadata": {
        "id": "48cca5ab"
      },
      "source": [
        "# PREPROCESSING"
      ]
    },
    {
      "cell_type": "markdown",
      "id": "76ebd3c4",
      "metadata": {
        "id": "76ebd3c4"
      },
      "source": [
        "# Case Folding"
      ]
    },
    {
      "cell_type": "code",
      "execution_count": null,
      "id": "d6ab8806",
      "metadata": {
        "id": "d6ab8806"
      },
      "outputs": [],
      "source": [
        "import re\n",
        "\n",
        "# Buat fungsi untuk langkah case folding\n",
        "def casefolding(text):\n",
        "  text = text.lower()                               # Mengubah teks menjadi lower case\n",
        "  text = re.sub(r'https?://\\S+|www\\.\\S+', '', text) # Menghapus URL\n",
        "  text = re.sub(r'[-+]?[0-9]+', '', text)           # Menghapus angka\n",
        "  text = re.sub(r'[^\\w\\s]','', text)                # Menghapus karakter tanda baca\n",
        "  text = text.strip()\n",
        "  return text"
      ]
    },
    {
      "cell_type": "code",
      "execution_count": null,
      "id": "45f494ae",
      "metadata": {
        "id": "45f494ae",
        "outputId": "3d3a2705-1461-4c2c-807e-0789c5c1b341"
      },
      "outputs": [
        {
          "name": "stdout",
          "output_type": "stream",
          "text": [
            "Raw data\t:  Cantik yang ini dong,penampilannya dewasa yang sesuai. Mukanya cantik Indonesia,classy. Ayu ayu gimana gitu.\n",
            "Case folding\t:  cantik yang ini dongpenampilannya dewasa yang sesuai mukanya cantik indonesiaclassy ayu ayu gimana gitu\n"
          ]
        }
      ],
      "source": [
        "raw_sample = data['text'].iloc[225]\n",
        "case_folding = casefolding(raw_sample)\n",
        "\n",
        "print('Raw data\\t: ', raw_sample)\n",
        "print('Case folding\\t: ', case_folding)"
      ]
    },
    {
      "cell_type": "markdown",
      "id": "38250720",
      "metadata": {
        "id": "38250720"
      },
      "source": [
        "## Word Normalization"
      ]
    },
    {
      "cell_type": "code",
      "execution_count": null,
      "id": "bbee9e03",
      "metadata": {
        "id": "bbee9e03"
      },
      "outputs": [],
      "source": [
        "link_norm = 'https://raw.githubusercontent.com/haris0/SentimentStreamlit/master/key_norm.csv'"
      ]
    },
    {
      "cell_type": "code",
      "execution_count": null,
      "id": "6e0f2b17",
      "metadata": {
        "id": "6e0f2b17",
        "outputId": "c965954a-48fd-4393-ae11-d4dd3b3efcbe"
      },
      "outputs": [
        {
          "name": "stdout",
          "output_type": "stream",
          "text": [
            "   _id      singkat       hasil\n",
            "0    1         abis       habis\n",
            "1    2       accent     tekanan\n",
            "2    3       accept      terima\n",
            "3    4     accident  kecelakaan\n",
            "4    5  achievement    prestasi\n"
          ]
        },
        {
          "data": {
            "text/plain": [
              "(3721, 3)"
            ]
          },
          "execution_count": 11,
          "metadata": {},
          "output_type": "execute_result"
        }
      ],
      "source": [
        "key_norm = pd.read_csv(link_norm)\n",
        "print(key_norm.head())\n",
        "\n",
        "key_norm.shape"
      ]
    },
    {
      "cell_type": "code",
      "execution_count": null,
      "id": "cb9c7e7e",
      "metadata": {
        "id": "cb9c7e7e"
      },
      "outputs": [],
      "source": [
        "def text_normalize(text):\n",
        "  text = ' '.join([key_norm[key_norm['singkat'] == word]['hasil'].values[0] if (key_norm['singkat'] == word).any() else word for word in text.split()])\n",
        "  text = str.lower(text)\n",
        "  return text"
      ]
    },
    {
      "cell_type": "code",
      "execution_count": null,
      "id": "b520c51d",
      "metadata": {
        "id": "b520c51d",
        "outputId": "2824543e-97a1-485a-ada0-a2e570fd01f0"
      },
      "outputs": [
        {
          "name": "stderr",
          "output_type": "stream",
          "text": [
            "[nltk_data] Downloading package stopwords to\n",
            "[nltk_data]     C:\\Users\\HP\\AppData\\Roaming\\nltk_data...\n",
            "[nltk_data]   Package stopwords is already up-to-date!\n"
          ]
        },
        {
          "data": {
            "text/plain": [
              "True"
            ]
          },
          "execution_count": 13,
          "metadata": {},
          "output_type": "execute_result"
        }
      ],
      "source": [
        "nltk.download('stopwords')"
      ]
    },
    {
      "cell_type": "code",
      "execution_count": null,
      "id": "0f19c610",
      "metadata": {
        "id": "0f19c610",
        "outputId": "5ef86298-e056-4e52-9e51-d5f00619bb47"
      },
      "outputs": [
        {
          "data": {
            "text/plain": [
              "['ada',\n",
              " 'adalah',\n",
              " 'adanya',\n",
              " 'adapun',\n",
              " 'agak',\n",
              " 'agaknya',\n",
              " 'agar',\n",
              " 'akan',\n",
              " 'akankah',\n",
              " 'akhir']"
            ]
          },
          "execution_count": 14,
          "metadata": {},
          "output_type": "execute_result"
        }
      ],
      "source": [
        "from nltk.corpus import stopwords\n",
        "\n",
        "stopwords_ind = stopwords.words('indonesian')\n",
        "stopwords_ind[:10]"
      ]
    },
    {
      "cell_type": "code",
      "execution_count": null,
      "id": "afb3ac0e",
      "metadata": {
        "id": "afb3ac0e",
        "outputId": "67fe32c7-0ca5-449c-9d61-2578e4ae7437"
      },
      "outputs": [
        {
          "data": {
            "text/plain": [
              "758"
            ]
          },
          "execution_count": 15,
          "metadata": {},
          "output_type": "execute_result"
        }
      ],
      "source": [
        "len(stopwords_ind)"
      ]
    },
    {
      "cell_type": "code",
      "execution_count": null,
      "id": "538895fb",
      "metadata": {
        "id": "538895fb"
      },
      "outputs": [],
      "source": [
        "# Buat fungsi untuk langkah stopword removal\n",
        "def remove_stop_words(text):\n",
        "  clean_words = []\n",
        "  text = text.split()\n",
        "  for word in text:\n",
        "      if word not in stopwords_ind:\n",
        "          clean_words.append(word)\n",
        "  return \" \".join(clean_words)"
      ]
    },
    {
      "cell_type": "code",
      "execution_count": null,
      "id": "eb8ac628",
      "metadata": {
        "id": "eb8ac628",
        "outputId": "5a545c1a-c3f0-40e1-963a-46aec390d9a8"
      },
      "outputs": [
        {
          "name": "stdout",
          "output_type": "stream",
          "text": [
            "Raw data\t\t:  Cantik yang ini dong,penampilannya dewasa yang sesuai. Mukanya cantik Indonesia,classy. Ayu ayu gimana gitu.\n",
            "Case folding\t\t:  cantik yang ini dongpenampilannya dewasa yang sesuai mukanya cantik indonesiaclassy ayu ayu gimana gitu\n",
            "Stopword removal\t:  cantik dongpenampilannya dewasa sesuai mukanya cantik indonesiaclassy ayu ayu gimana gitu\n"
          ]
        }
      ],
      "source": [
        "raw_sample = data['text'].iloc[225]\n",
        "case_folding = casefolding(raw_sample)\n",
        "stopword_removal = remove_stop_words(case_folding)\n",
        "\n",
        "print('Raw data\\t\\t: ', raw_sample)\n",
        "print('Case folding\\t\\t: ', case_folding)\n",
        "print('Stopword removal\\t: ', stopword_removal)"
      ]
    },
    {
      "cell_type": "markdown",
      "id": "274429f5",
      "metadata": {
        "id": "274429f5"
      },
      "source": [
        "## Stemming"
      ]
    },
    {
      "cell_type": "code",
      "execution_count": null,
      "id": "fc8118b4",
      "metadata": {
        "id": "fc8118b4"
      },
      "outputs": [],
      "source": [
        "!pip -q install sastrawi"
      ]
    },
    {
      "cell_type": "code",
      "execution_count": null,
      "id": "18a6f6de",
      "metadata": {
        "id": "18a6f6de"
      },
      "outputs": [],
      "source": [
        "from Sastrawi.Stemmer.StemmerFactory import StemmerFactory\n",
        "\n",
        "factory = StemmerFactory()\n",
        "stemmer = factory.create_stemmer()\n",
        "\n",
        "# Buat fungsi untuk langkah stemming bahasa Indonesia\n",
        "def stemming(text):\n",
        "  text = stemmer.stem(text)\n",
        "  return text"
      ]
    },
    {
      "cell_type": "code",
      "execution_count": null,
      "id": "2de9484e",
      "metadata": {
        "id": "2de9484e",
        "outputId": "1376cdf9-87bd-4f17-8243-0c6f1da8a417"
      },
      "outputs": [
        {
          "name": "stdout",
          "output_type": "stream",
          "text": [
            "Raw data\t\t:  Cantik yang ini dong,penampilannya dewasa yang sesuai. Mukanya cantik Indonesia,classy. Ayu ayu gimana gitu.\n",
            "Case folding\t\t:  cantik yang ini dongpenampilannya dewasa yang sesuai mukanya cantik indonesiaclassy ayu ayu gimana gitu\n",
            "Stopword removal\t:  cantik dongpenampilannya dewasa sesuai mukanya cantik indonesiaclassy ayu ayu gimana gitu\n",
            "Stemming\t\t:  cantik dongpenampilannya dewasa sesuai muka cantik indonesiaclassy ayu ayu gimana gitu\n"
          ]
        }
      ],
      "source": [
        "raw_sample = data['text'].iloc[225]\n",
        "case_folding = casefolding(raw_sample)\n",
        "stopword_removal = remove_stop_words(case_folding)\n",
        "text_stemming = stemming(stopword_removal)\n",
        "\n",
        "print('Raw data\\t\\t: ', raw_sample)\n",
        "print('Case folding\\t\\t: ', case_folding)\n",
        "print('Stopword removal\\t: ', stopword_removal)\n",
        "print('Stemming\\t\\t: ', text_stemming)"
      ]
    },
    {
      "cell_type": "markdown",
      "id": "def2e980",
      "metadata": {
        "id": "def2e980"
      },
      "source": [
        "## Clean Text Column Addition"
      ]
    },
    {
      "cell_type": "code",
      "execution_count": null,
      "id": "de75a5a8",
      "metadata": {
        "id": "de75a5a8"
      },
      "outputs": [],
      "source": [
        "# Buat fungsi untuk menggabungkan seluruh langkah text preprocessing\n",
        "def text_preprocessing_process(text):\n",
        "  text = casefolding(text)\n",
        "  text = text_normalize(text)\n",
        "  text = remove_stop_words(text)\n",
        "  text = stemming(text)\n",
        "  return text"
      ]
    },
    {
      "cell_type": "code",
      "execution_count": null,
      "id": "afdad663",
      "metadata": {
        "id": "afdad663",
        "outputId": "76b2641a-6f92-4602-ec8d-81d34fc3e32c"
      },
      "outputs": [
        {
          "name": "stdout",
          "output_type": "stream",
          "text": [
            "CPU times: total: 2min 17s\n",
            "Wall time: 3min 47s\n"
          ]
        }
      ],
      "source": [
        "%%time\n",
        "data['clean_text'] = data['text'].apply(text_preprocessing_process)"
      ]
    },
    {
      "cell_type": "code",
      "execution_count": null,
      "id": "4d164531",
      "metadata": {
        "id": "4d164531",
        "outputId": "3fb23c05-9044-4381-8135-fa67769cef15"
      },
      "outputs": [
        {
          "data": {
            "text/html": [
              "<div>\n",
              "<style scoped>\n",
              "    .dataframe tbody tr th:only-of-type {\n",
              "        vertical-align: middle;\n",
              "    }\n",
              "\n",
              "    .dataframe tbody tr th {\n",
              "        vertical-align: top;\n",
              "    }\n",
              "\n",
              "    .dataframe thead th {\n",
              "        text-align: right;\n",
              "    }\n",
              "</style>\n",
              "<table border=\"1\" class=\"dataframe\">\n",
              "  <thead>\n",
              "    <tr style=\"text-align: right;\">\n",
              "      <th></th>\n",
              "      <th>id</th>\n",
              "      <th>label</th>\n",
              "      <th>text</th>\n",
              "      <th>clean_text</th>\n",
              "    </tr>\n",
              "  </thead>\n",
              "  <tbody>\n",
              "    <tr>\n",
              "      <th>0</th>\n",
              "      <td>1</td>\n",
              "      <td>0</td>\n",
              "      <td>&lt;USERNAME&gt; TOLOL!! Gak ada hubungan nya kegug...</td>\n",
              "      <td>username tolol hubung nya gugur pakai hijab sy...</td>\n",
              "    </tr>\n",
              "    <tr>\n",
              "      <th>1</th>\n",
              "      <td>2</td>\n",
              "      <td>0</td>\n",
              "      <td>Geblek lo tata...cowo bgt dibela2in balikan......</td>\n",
              "      <td>bodoh tatacowo banget bain balikanhadewwntar t...</td>\n",
              "    </tr>\n",
              "    <tr>\n",
              "      <th>2</th>\n",
              "      <td>3</td>\n",
              "      <td>0</td>\n",
              "      <td>Kmrn termewek2 skr lengket lg duhhh kok labil ...</td>\n",
              "      <td>kemarin mewek skr lengket duhhh labil banget s...</td>\n",
              "    </tr>\n",
              "    <tr>\n",
              "      <th>3</th>\n",
              "      <td>4</td>\n",
              "      <td>0</td>\n",
              "      <td>Intinya kalau kesel dengan ATT nya, gausah ke ...</td>\n",
              "      <td>inti kesel att nya anak kasihan kembang psikis...</td>\n",
              "    </tr>\n",
              "    <tr>\n",
              "      <th>4</th>\n",
              "      <td>5</td>\n",
              "      <td>0</td>\n",
              "      <td>hadewwwww permpuan itu lg!!!!sakit jiwa,knp ha...</td>\n",
              "      <td>hadewwwww permpuan lgsakit jiwaknp peran utama...</td>\n",
              "    </tr>\n",
              "    <tr>\n",
              "      <th>...</th>\n",
              "      <td>...</td>\n",
              "      <td>...</td>\n",
              "      <td>...</td>\n",
              "      <td>...</td>\n",
              "    </tr>\n",
              "    <tr>\n",
              "      <th>395</th>\n",
              "      <td>396</td>\n",
              "      <td>1</td>\n",
              "      <td>Bangga sama suami yg selalu ingat istri disela...</td>\n",
              "      <td>bangga suami istri sela apa profesi kau juara ...</td>\n",
              "    </tr>\n",
              "    <tr>\n",
              "      <th>396</th>\n",
              "      <td>397</td>\n",
              "      <td>1</td>\n",
              "      <td>Apaoun pekerjaannya yg penting halal u tuk men...</td>\n",
              "      <td>apaoun kerja halal tuk nafkah keluarga semangat</td>\n",
              "    </tr>\n",
              "    <tr>\n",
              "      <th>397</th>\n",
              "      <td>398</td>\n",
              "      <td>1</td>\n",
              "      <td>Gojek itu mayoritas pegangguran yang lama gak ...</td>\n",
              "      <td>gojek mayoritas pegangguran kerja putus asaa t...</td>\n",
              "    </tr>\n",
              "    <tr>\n",
              "      <th>398</th>\n",
              "      <td>399</td>\n",
              "      <td>1</td>\n",
              "      <td>&lt;USERNAME&gt; aslinya cantik dan ayu loh mbak kr...</td>\n",
              "      <td>username asli cantik ayu loh mbak temu langsun...</td>\n",
              "    </tr>\n",
              "    <tr>\n",
              "      <th>399</th>\n",
              "      <td>400</td>\n",
              "      <td>1</td>\n",
              "      <td>&lt;USERNAME&gt; suami saya seumuran sama saya mba,...</td>\n",
              "      <td>username suami umur mbak tua alhamdulillah sua...</td>\n",
              "    </tr>\n",
              "  </tbody>\n",
              "</table>\n",
              "<p>400 rows × 4 columns</p>\n",
              "</div>"
            ],
            "text/plain": [
              "      id  label                                               text  \\\n",
              "0      1      0   <USERNAME> TOLOL!! Gak ada hubungan nya kegug...   \n",
              "1      2      0  Geblek lo tata...cowo bgt dibela2in balikan......   \n",
              "2      3      0  Kmrn termewek2 skr lengket lg duhhh kok labil ...   \n",
              "3      4      0  Intinya kalau kesel dengan ATT nya, gausah ke ...   \n",
              "4      5      0  hadewwwww permpuan itu lg!!!!sakit jiwa,knp ha...   \n",
              "..   ...    ...                                                ...   \n",
              "395  396      1  Bangga sama suami yg selalu ingat istri disela...   \n",
              "396  397      1  Apaoun pekerjaannya yg penting halal u tuk men...   \n",
              "397  398      1  Gojek itu mayoritas pegangguran yang lama gak ...   \n",
              "398  399      1   <USERNAME> aslinya cantik dan ayu loh mbak kr...   \n",
              "399  400      1   <USERNAME> suami saya seumuran sama saya mba,...   \n",
              "\n",
              "                                            clean_text  \n",
              "0    username tolol hubung nya gugur pakai hijab sy...  \n",
              "1    bodoh tatacowo banget bain balikanhadewwntar t...  \n",
              "2    kemarin mewek skr lengket duhhh labil banget s...  \n",
              "3    inti kesel att nya anak kasihan kembang psikis...  \n",
              "4    hadewwwww permpuan lgsakit jiwaknp peran utama...  \n",
              "..                                                 ...  \n",
              "395  bangga suami istri sela apa profesi kau juara ...  \n",
              "396    apaoun kerja halal tuk nafkah keluarga semangat  \n",
              "397  gojek mayoritas pegangguran kerja putus asaa t...  \n",
              "398  username asli cantik ayu loh mbak temu langsun...  \n",
              "399  username suami umur mbak tua alhamdulillah sua...  \n",
              "\n",
              "[400 rows x 4 columns]"
            ]
          },
          "execution_count": 23,
          "metadata": {},
          "output_type": "execute_result"
        }
      ],
      "source": [
        "data"
      ]
    },
    {
      "cell_type": "markdown",
      "id": "9c335b37",
      "metadata": {
        "id": "9c335b37"
      },
      "source": [
        "# FEATURE EXTRACTION & MODELLING"
      ]
    },
    {
      "cell_type": "markdown",
      "id": "526f47d2",
      "metadata": {
        "id": "526f47d2"
      },
      "source": [
        "### TF-IDF for Naive Bayes Modelling"
      ]
    },
    {
      "cell_type": "markdown",
      "id": "30187137",
      "metadata": {
        "id": "30187137"
      },
      "source": [
        "###### TF-IDF"
      ]
    },
    {
      "cell_type": "code",
      "execution_count": null,
      "id": "efb1c855",
      "metadata": {
        "id": "efb1c855"
      },
      "outputs": [],
      "source": [
        "from sklearn.feature_extraction.text import TfidfVectorizer"
      ]
    },
    {
      "cell_type": "code",
      "execution_count": null,
      "id": "7f8a9e51",
      "metadata": {
        "id": "7f8a9e51",
        "outputId": "006caedd-9b6d-4295-a5c8-cb43241ef8fd"
      },
      "outputs": [
        {
          "data": {
            "text/plain": [
              "<400x2315 sparse matrix of type '<class 'numpy.float64'>'\n",
              "\twith 5198 stored elements in Compressed Sparse Row format>"
            ]
          },
          "execution_count": 25,
          "metadata": {},
          "output_type": "execute_result"
        }
      ],
      "source": [
        "# Ekstraksi fitur dengan TF-IDF\n",
        "tfidf_model = TfidfVectorizer()\n",
        "tfidf_vectors = tfidf_model.fit_transform(data['clean_text'])\n",
        "\n",
        "tfidf_vectors"
      ]
    },
    {
      "cell_type": "code",
      "execution_count": null,
      "id": "1cfd09d7",
      "metadata": {
        "id": "1cfd09d7",
        "outputId": "927b6a32-c1da-4ea7-8cad-697136c3aeaf"
      },
      "outputs": [
        {
          "name": "stdout",
          "output_type": "stream",
          "text": [
            "[[0. 0. 0. ... 0. 0. 0.]\n",
            " [0. 0. 0. ... 0. 0. 0.]\n",
            " [0. 0. 0. ... 0. 0. 0.]\n",
            " ...\n",
            " [0. 0. 0. ... 0. 0. 0.]\n",
            " [0. 0. 0. ... 0. 0. 0.]\n",
            " [0. 0. 0. ... 0. 0. 0.]]\n"
          ]
        }
      ],
      "source": [
        "print(tfidf_vectors.toarray())"
      ]
    },
    {
      "cell_type": "markdown",
      "id": "5fe5cdea",
      "metadata": {
        "id": "5fe5cdea"
      },
      "source": [
        "##### Chi Square Feature Selection"
      ]
    },
    {
      "cell_type": "code",
      "execution_count": null,
      "id": "957b5331",
      "metadata": {
        "id": "957b5331"
      },
      "outputs": [],
      "source": [
        "from sklearn.feature_selection import SelectKBest, chi2\n",
        "from sklearn.preprocessing import MinMaxScaler"
      ]
    },
    {
      "cell_type": "code",
      "execution_count": null,
      "id": "1f1617ef",
      "metadata": {
        "id": "1f1617ef"
      },
      "outputs": [],
      "source": [
        "data_labels = np.array(data['label'])\n",
        "\n",
        "# Feature selection for tfidf_vectors\n",
        "selector = SelectKBest(chi2, k=100)\n",
        "tfidf_vectors_selected = selector.fit_transform(tfidf_vectors, data_labels)\n",
        "tfidf_feature_names = tfidf_model.get_feature_names_out()\n",
        "tfidf_features_selected = np.array(tfidf_feature_names)[selector.get_support()]"
      ]
    },
    {
      "cell_type": "code",
      "execution_count": null,
      "id": "1737a8e3",
      "metadata": {
        "id": "1737a8e3",
        "outputId": "728385da-166d-4652-d359-bee54b444b95"
      },
      "outputs": [
        {
          "data": {
            "image/png": "[encoded data removed]",
            "text/plain": [
              "<Figure size 2000x800 with 1 Axes>"
            ]
          },
          "metadata": {},
          "output_type": "display_data"
        }
      ],
      "source": [
        "# Visualize feature importance for tfidf_vectors\n",
        "scores = -np.log10(selector.pvalues_)\n",
        "plt.figure(figsize=(20, 8))\n",
        "plt.bar(range(len(tfidf_features_selected)), scores[selector.get_support()], width=0.7)\n",
        "plt.xticks(range(len(tfidf_features_selected)), tfidf_features_selected, rotation=90)\n",
        "plt.xlabel('Words', fontsize=16)\n",
        "plt.ylabel('Importance', fontsize=16)\n",
        "plt.title('Feature Importance for tfidf_vectors', fontsize=20)\n",
        "plt.tick_params(labelsize=14)\n",
        "plt.show()"
      ]
    },
    {
      "cell_type": "code",
      "execution_count": null,
      "id": "8ad48416",
      "metadata": {
        "id": "8ad48416",
        "outputId": "59ea7827-1d34-4be3-be58-0c424bb7ea5c"
      },
      "outputs": [
        {
          "data": {
            "text/html": [
              "<div>\n",
              "<style scoped>\n",
              "    .dataframe tbody tr th:only-of-type {\n",
              "        vertical-align: middle;\n",
              "    }\n",
              "\n",
              "    .dataframe tbody tr th {\n",
              "        vertical-align: top;\n",
              "    }\n",
              "\n",
              "    .dataframe thead th {\n",
              "        text-align: right;\n",
              "    }\n",
              "</style>\n",
              "<table border=\"1\" class=\"dataframe\">\n",
              "  <thead>\n",
              "    <tr style=\"text-align: right;\">\n",
              "      <th></th>\n",
              "      <th>aamiin</th>\n",
              "      <th>aammiinnn</th>\n",
              "      <th>abal</th>\n",
              "      <th>abang</th>\n",
              "      <th>abbey</th>\n",
              "      <th>abege</th>\n",
              "      <th>abiiis</th>\n",
              "      <th>abiss</th>\n",
              "      <th>abu</th>\n",
              "      <th>ac</th>\n",
              "      <th>...</th>\n",
              "      <th>yh</th>\n",
              "      <th>yoo</th>\n",
              "      <th>youtube</th>\n",
              "      <th>yra</th>\n",
              "      <th>yuk</th>\n",
              "      <th>yutub</th>\n",
              "      <th>zaman</th>\n",
              "      <th>zholimi</th>\n",
              "      <th>zina</th>\n",
              "      <th>zzzzz</th>\n",
              "    </tr>\n",
              "  </thead>\n",
              "  <tbody>\n",
              "    <tr>\n",
              "      <th>0</th>\n",
              "      <td>0.0</td>\n",
              "      <td>0.0</td>\n",
              "      <td>0.0</td>\n",
              "      <td>0.0</td>\n",
              "      <td>0.0</td>\n",
              "      <td>0.000000</td>\n",
              "      <td>0.0</td>\n",
              "      <td>0.0</td>\n",
              "      <td>0.0</td>\n",
              "      <td>0.0</td>\n",
              "      <td>...</td>\n",
              "      <td>0.0</td>\n",
              "      <td>0.0</td>\n",
              "      <td>0.0</td>\n",
              "      <td>0.0</td>\n",
              "      <td>0.0</td>\n",
              "      <td>0.0</td>\n",
              "      <td>0.0</td>\n",
              "      <td>0.0</td>\n",
              "      <td>0.0</td>\n",
              "      <td>0.0</td>\n",
              "    </tr>\n",
              "    <tr>\n",
              "      <th>1</th>\n",
              "      <td>0.0</td>\n",
              "      <td>0.0</td>\n",
              "      <td>0.0</td>\n",
              "      <td>0.0</td>\n",
              "      <td>0.0</td>\n",
              "      <td>0.000000</td>\n",
              "      <td>0.0</td>\n",
              "      <td>0.0</td>\n",
              "      <td>0.0</td>\n",
              "      <td>0.0</td>\n",
              "      <td>...</td>\n",
              "      <td>0.0</td>\n",
              "      <td>0.0</td>\n",
              "      <td>0.0</td>\n",
              "      <td>0.0</td>\n",
              "      <td>0.0</td>\n",
              "      <td>0.0</td>\n",
              "      <td>0.0</td>\n",
              "      <td>0.0</td>\n",
              "      <td>0.0</td>\n",
              "      <td>0.0</td>\n",
              "    </tr>\n",
              "    <tr>\n",
              "      <th>2</th>\n",
              "      <td>0.0</td>\n",
              "      <td>0.0</td>\n",
              "      <td>0.0</td>\n",
              "      <td>0.0</td>\n",
              "      <td>0.0</td>\n",
              "      <td>0.237377</td>\n",
              "      <td>0.0</td>\n",
              "      <td>0.0</td>\n",
              "      <td>0.0</td>\n",
              "      <td>0.0</td>\n",
              "      <td>...</td>\n",
              "      <td>0.0</td>\n",
              "      <td>0.0</td>\n",
              "      <td>0.0</td>\n",
              "      <td>0.0</td>\n",
              "      <td>0.0</td>\n",
              "      <td>0.0</td>\n",
              "      <td>0.0</td>\n",
              "      <td>0.0</td>\n",
              "      <td>0.0</td>\n",
              "      <td>0.0</td>\n",
              "    </tr>\n",
              "    <tr>\n",
              "      <th>3</th>\n",
              "      <td>0.0</td>\n",
              "      <td>0.0</td>\n",
              "      <td>0.0</td>\n",
              "      <td>0.0</td>\n",
              "      <td>0.0</td>\n",
              "      <td>0.000000</td>\n",
              "      <td>0.0</td>\n",
              "      <td>0.0</td>\n",
              "      <td>0.0</td>\n",
              "      <td>0.0</td>\n",
              "      <td>...</td>\n",
              "      <td>0.0</td>\n",
              "      <td>0.0</td>\n",
              "      <td>0.0</td>\n",
              "      <td>0.0</td>\n",
              "      <td>0.0</td>\n",
              "      <td>0.0</td>\n",
              "      <td>0.0</td>\n",
              "      <td>0.0</td>\n",
              "      <td>0.0</td>\n",
              "      <td>0.0</td>\n",
              "    </tr>\n",
              "    <tr>\n",
              "      <th>4</th>\n",
              "      <td>0.0</td>\n",
              "      <td>0.0</td>\n",
              "      <td>0.0</td>\n",
              "      <td>0.0</td>\n",
              "      <td>0.0</td>\n",
              "      <td>0.000000</td>\n",
              "      <td>0.0</td>\n",
              "      <td>0.0</td>\n",
              "      <td>0.0</td>\n",
              "      <td>0.0</td>\n",
              "      <td>...</td>\n",
              "      <td>0.0</td>\n",
              "      <td>0.0</td>\n",
              "      <td>0.0</td>\n",
              "      <td>0.0</td>\n",
              "      <td>0.0</td>\n",
              "      <td>0.0</td>\n",
              "      <td>0.0</td>\n",
              "      <td>0.0</td>\n",
              "      <td>0.0</td>\n",
              "      <td>0.0</td>\n",
              "    </tr>\n",
              "  </tbody>\n",
              "</table>\n",
              "<p>5 rows × 2315 columns</p>\n",
              "</div>"
            ],
            "text/plain": [
              "   aamiin  aammiinnn  abal  abang  abbey     abege  abiiis  abiss  abu   ac  \\\n",
              "0     0.0        0.0   0.0    0.0    0.0  0.000000     0.0    0.0  0.0  0.0   \n",
              "1     0.0        0.0   0.0    0.0    0.0  0.000000     0.0    0.0  0.0  0.0   \n",
              "2     0.0        0.0   0.0    0.0    0.0  0.237377     0.0    0.0  0.0  0.0   \n",
              "3     0.0        0.0   0.0    0.0    0.0  0.000000     0.0    0.0  0.0  0.0   \n",
              "4     0.0        0.0   0.0    0.0    0.0  0.000000     0.0    0.0  0.0  0.0   \n",
              "\n",
              "   ...   yh  yoo  youtube  yra  yuk  yutub  zaman  zholimi  zina  zzzzz  \n",
              "0  ...  0.0  0.0      0.0  0.0  0.0    0.0    0.0      0.0   0.0    0.0  \n",
              "1  ...  0.0  0.0      0.0  0.0  0.0    0.0    0.0      0.0   0.0    0.0  \n",
              "2  ...  0.0  0.0      0.0  0.0  0.0    0.0    0.0      0.0   0.0    0.0  \n",
              "3  ...  0.0  0.0      0.0  0.0  0.0    0.0    0.0      0.0   0.0    0.0  \n",
              "4  ...  0.0  0.0      0.0  0.0  0.0    0.0    0.0      0.0   0.0    0.0  \n",
              "\n",
              "[5 rows x 2315 columns]"
            ]
          },
          "execution_count": 30,
          "metadata": {},
          "output_type": "execute_result"
        }
      ],
      "source": [
        "X_tfidf = tfidf_vectors.toarray()\n",
        "data_tf_idf = pd.DataFrame(X_tfidf, columns=tfidf_model.get_feature_names_out())\n",
        "\n",
        "data_tf_idf.head()"
      ]
    },
    {
      "cell_type": "code",
      "execution_count": null,
      "id": "d86bd2c1",
      "metadata": {
        "id": "d86bd2c1",
        "outputId": "d7db9083-65db-456a-d9c4-bd5397ce3184"
      },
      "outputs": [
        {
          "data": {
            "text/plain": [
              "(400, 2315)"
            ]
          },
          "execution_count": 31,
          "metadata": {},
          "output_type": "execute_result"
        }
      ],
      "source": [
        "data_tf_idf.shape"
      ]
    },
    {
      "cell_type": "markdown",
      "id": "71754550",
      "metadata": {
        "id": "71754550"
      },
      "source": [
        "##### Naive Bayes"
      ]
    },
    {
      "cell_type": "code",
      "execution_count": null,
      "id": "1900539a",
      "metadata": {
        "id": "1900539a"
      },
      "outputs": [],
      "source": [
        "from sklearn.naive_bayes import BernoulliNB\n",
        "from sklearn.metrics import confusion_matrix, classification_report\n",
        "from sklearn.model_selection import train_test_split"
      ]
    },
    {
      "cell_type": "code",
      "execution_count": null,
      "id": "53436aca",
      "metadata": {
        "id": "53436aca",
        "outputId": "8643a3b2-33d4-4c0b-fa32-ea03de7ca066"
      },
      "outputs": [
        {
          "data": {
            "text/html": [
              "<style>#sk-container-id-1 {color: black;background-color: white;}#sk-container-id-1 pre{padding: 0;}#sk-container-id-1 div.sk-toggleable {background-color: white;}#sk-container-id-1 label.sk-toggleable__label {cursor: pointer;display: block;width: 100%;margin-bottom: 0;padding: 0.3em;box-sizing: border-box;text-align: center;}#sk-container-id-1 label.sk-toggleable__label-arrow:before {content: \"▸\";float: left;margin-right: 0.25em;color: #696969;}#sk-container-id-1 label.sk-toggleable__label-arrow:hover:before {color: black;}#sk-container-id-1 div.sk-estimator:hover label.sk-toggleable__label-arrow:before {color: black;}#sk-container-id-1 div.sk-toggleable__content {max-height: 0;max-width: 0;overflow: hidden;text-align: left;background-color: #f0f8ff;}#sk-container-id-1 div.sk-toggleable__content pre {margin: 0.2em;color: black;border-radius: 0.25em;background-color: #f0f8ff;}#sk-container-id-1 input.sk-toggleable__control:checked~div.sk-toggleable__content {max-height: 200px;max-width: 100%;overflow: auto;}#sk-container-id-1 input.sk-toggleable__control:checked~label.sk-toggleable__label-arrow:before {content: \"▾\";}#sk-container-id-1 div.sk-estimator input.sk-toggleable__control:checked~label.sk-toggleable__label {background-color: #d4ebff;}#sk-container-id-1 div.sk-label input.sk-toggleable__control:checked~label.sk-toggleable__label {background-color: #d4ebff;}#sk-container-id-1 input.sk-hidden--visually {border: 0;clip: rect(1px 1px 1px 1px);clip: rect(1px, 1px, 1px, 1px);height: 1px;margin: -1px;overflow: hidden;padding: 0;position: absolute;width: 1px;}#sk-container-id-1 div.sk-estimator {font-family: monospace;background-color: #f0f8ff;border: 1px dotted black;border-radius: 0.25em;box-sizing: border-box;margin-bottom: 0.5em;}#sk-container-id-1 div.sk-estimator:hover {background-color: #d4ebff;}#sk-container-id-1 div.sk-parallel-item::after {content: \"\";width: 100%;border-bottom: 1px solid gray;flex-grow: 1;}#sk-container-id-1 div.sk-label:hover label.sk-toggleable__label {background-color: #d4ebff;}#sk-container-id-1 div.sk-serial::before {content: \"\";position: absolute;border-left: 1px solid gray;box-sizing: border-box;top: 0;bottom: 0;left: 50%;z-index: 0;}#sk-container-id-1 div.sk-serial {display: flex;flex-direction: column;align-items: center;background-color: white;padding-right: 0.2em;padding-left: 0.2em;position: relative;}#sk-container-id-1 div.sk-item {position: relative;z-index: 1;}#sk-container-id-1 div.sk-parallel {display: flex;align-items: stretch;justify-content: center;background-color: white;position: relative;}#sk-container-id-1 div.sk-item::before, #sk-container-id-1 div.sk-parallel-item::before {content: \"\";position: absolute;border-left: 1px solid gray;box-sizing: border-box;top: 0;bottom: 0;left: 50%;z-index: -1;}#sk-container-id-1 div.sk-parallel-item {display: flex;flex-direction: column;z-index: 1;position: relative;background-color: white;}#sk-container-id-1 div.sk-parallel-item:first-child::after {align-self: flex-end;width: 50%;}#sk-container-id-1 div.sk-parallel-item:last-child::after {align-self: flex-start;width: 50%;}#sk-container-id-1 div.sk-parallel-item:only-child::after {width: 0;}#sk-container-id-1 div.sk-dashed-wrapped {border: 1px dashed gray;margin: 0 0.4em 0.5em 0.4em;box-sizing: border-box;padding-bottom: 0.4em;background-color: white;}#sk-container-id-1 div.sk-label label {font-family: monospace;font-weight: bold;display: inline-block;line-height: 1.2em;}#sk-container-id-1 div.sk-label-container {text-align: center;}#sk-container-id-1 div.sk-container {/* jupyter's `normalize.less` sets `[hidden] { display: none; }` but bootstrap.min.css set `[hidden] { display: none !important; }` so we also need the `!important` here to be able to override the default hidden behavior on the sphinx rendered scikit-learn.org. See: https://github.com/scikit-learn/scikit-learn/issues/21755 */display: inline-block !important;position: relative;}#sk-container-id-1 div.sk-text-repr-fallback {display: none;}</style><div id=\"sk-container-id-1\" class=\"sk-top-container\"><div class=\"sk-text-repr-fallback\"><pre>BernoulliNB()</pre><b>In a Jupyter environment, please rerun this cell to show the HTML representation or trust the notebook. <br />On GitHub, the HTML representation is unable to render, please try loading this page with nbviewer.org.</b></div><div class=\"sk-container\" hidden><div class=\"sk-item\"><div class=\"sk-estimator sk-toggleable\"><input class=\"sk-toggleable__control sk-hidden--visually\" id=\"sk-estimator-id-1\" type=\"checkbox\" checked><label for=\"sk-estimator-id-1\" class=\"sk-toggleable__label sk-toggleable__label-arrow\">BernoulliNB</label><div class=\"sk-toggleable__content\"><pre>BernoulliNB()</pre></div></div></div></div></div>"
            ],
            "text/plain": [
              "BernoulliNB()"
            ]
          },
          "execution_count": 33,
          "metadata": {},
          "output_type": "execute_result"
        }
      ],
      "source": [
        "# membuat target vector\n",
        "target = np.array(data['label'])\n",
        "\n",
        "# membagi data menjadi data latih dan data uji\n",
        "X_train, X_test, y_train, y_test = train_test_split(tfidf_vectors_selected, target, test_size=0.2, random_state=42)\n",
        "\n",
        "# membuat model Naive Bayes\n",
        "model = BernoulliNB()\n",
        "\n",
        "# melatih model dengan data latih\n",
        "model.fit(X_train, y_train)"
      ]
    },
    {
      "cell_type": "code",
      "execution_count": null,
      "id": "d030782d",
      "metadata": {
        "id": "d030782d"
      },
      "outputs": [],
      "source": [
        "# melakukan prediksi pada data uji\n",
        "y_pred = model.predict(X_test)"
      ]
    },
    {
      "cell_type": "code",
      "execution_count": null,
      "id": "a722d476",
      "metadata": {
        "id": "a722d476",
        "outputId": "15592182-4a77-43c7-d11b-56ca4036f7b0"
      },
      "outputs": [
        {
          "data": {
            "text/plain": [
              "array([1, 1, 0, 1, 0, 0, 1, 0, 1, 0, 1, 1, 0, 0, 0, 0, 1, 1, 1, 1, 0, 0,\n",
              "       1, 1, 0, 1, 0, 1, 1, 1, 1, 1, 1, 0, 1, 0, 0, 1, 0, 0, 1, 0, 1, 0,\n",
              "       0, 1, 0, 1, 0, 0, 0, 1, 1, 0, 1, 0, 1, 0, 0, 0, 0, 1, 1, 0, 0, 0,\n",
              "       1, 1, 1, 0, 1, 0, 0, 0, 1, 1, 1, 1, 0, 1], dtype=int64)"
            ]
          },
          "execution_count": 35,
          "metadata": {},
          "output_type": "execute_result"
        }
      ],
      "source": [
        "y_pred"
      ]
    },
    {
      "cell_type": "code",
      "execution_count": null,
      "id": "059a9f05",
      "metadata": {
        "id": "059a9f05",
        "outputId": "7eb94a80-55b1-45ef-9f33-87ea8474df91"
      },
      "outputs": [
        {
          "data": {
            "text/plain": [
              "array([1, 1, 0, 1, 0, 0, 1, 0, 1, 0, 0, 1, 0, 0, 0, 0, 1, 1, 1, 1, 0, 0,\n",
              "       1, 1, 0, 1, 0, 1, 1, 0, 1, 0, 1, 0, 1, 0, 0, 1, 0, 0, 1, 0, 0, 0,\n",
              "       0, 1, 0, 0, 0, 0, 0, 1, 1, 0, 1, 0, 1, 0, 0, 0, 0, 1, 1, 0, 0, 0,\n",
              "       1, 1, 1, 0, 1, 0, 0, 0, 1, 1, 1, 1, 0, 1], dtype=int64)"
            ]
          },
          "execution_count": 36,
          "metadata": {},
          "output_type": "execute_result"
        }
      ],
      "source": [
        "y_test"
      ]
    },
    {
      "cell_type": "code",
      "execution_count": null,
      "id": "79f0b217",
      "metadata": {
        "id": "79f0b217",
        "outputId": "33f5837f-d4be-4fc7-c371-f93134b8a830"
      },
      "outputs": [
        {
          "name": "stdout",
          "output_type": "stream",
          "text": [
            "Classification Report:\n",
            "              precision    recall  f1-score   support\n",
            "\n",
            "           0       1.00      0.89      0.94        44\n",
            "           1       0.88      1.00      0.94        36\n",
            "\n",
            "    accuracy                           0.94        80\n",
            "   macro avg       0.94      0.94      0.94        80\n",
            "weighted avg       0.95      0.94      0.94        80\n",
            "\n"
          ]
        }
      ],
      "source": [
        "# membuat laporan klasifikasi\n",
        "cr = classification_report(y_test, y_pred)\n",
        "\n",
        "print(\"Classification Report:\")\n",
        "print(cr)"
      ]
    },
    {
      "cell_type": "code",
      "execution_count": null,
      "id": "0af6aad0",
      "metadata": {
        "id": "0af6aad0",
        "outputId": "5e485f66-5087-4fbf-99ab-baddecd4f335"
      },
      "outputs": [
        {
          "name": "stdout",
          "output_type": "stream",
          "text": [
            "Naive Bayes Accuracy: 93.75%\n"
          ]
        }
      ],
      "source": [
        "# menghitung akurasi model\n",
        "accuracy = model.score(X_test, y_test)\n",
        "\n",
        "# menampilkan nilai akurasi\n",
        "print(\"Naive Bayes Accuracy:\", '{:.2%}'.format(accuracy))"
      ]
    },
    {
      "cell_type": "code",
      "execution_count": null,
      "id": "73edc9dc",
      "metadata": {
        "id": "73edc9dc",
        "outputId": "9f88f5dd-8cd8-423e-c104-64ba6d866c73"
      },
      "outputs": [
        {
          "data": {
            "image/png": "[encoded data removed]",
            "text/plain": [
              "<Figure size 640x480 with 2 Axes>"
            ]
          },
          "metadata": {},
          "output_type": "display_data"
        }
      ],
      "source": [
        "import seaborn as sns\n",
        "# membuat confusion matrix\n",
        "cm = confusion_matrix(y_test, y_pred)\n",
        "\n",
        "# membuat confusion matrix plot\n",
        "sns.set(font_scale=1.4)\n",
        "sns.heatmap(cm, annot=True, annot_kws={\"size\": 16}, cmap=\"Greens\", fmt=\"d\")\n",
        "\n",
        "plt.title('Confusion Matrix')\n",
        "plt.ylabel('Actual Label')\n",
        "plt.xlabel('Predicted Label')\n",
        "plt.show()"
      ]
    },
    {
      "cell_type": "markdown",
      "id": "ba107c2d",
      "metadata": {
        "id": "ba107c2d"
      },
      "source": [
        "### Glove Embedding for CNN"
      ]
    },
    {
      "cell_type": "code",
      "execution_count": null,
      "id": "effc3f1f",
      "metadata": {
        "id": "effc3f1f"
      },
      "outputs": [],
      "source": [
        "import tensorflow as tf\n",
        "from keras.preprocessing.text import Tokenizer\n",
        "from keras_preprocessing.sequence import pad_sequences\n",
        "from keras.layers import Embedding, Conv1D, MaxPooling1D, Flatten, Dropout, Dense\n",
        "from keras.models import Sequential\n",
        "from sklearn.model_selection import train_test_split\n",
        "from keras.callbacks import EarlyStopping"
      ]
    },
    {
      "cell_type": "code",
      "execution_count": null,
      "id": "f33339ce",
      "metadata": {
        "id": "f33339ce"
      },
      "outputs": [],
      "source": [
        "# set parameters\n",
        "max_sequence_length = 1000\n",
        "max_num_words = 2000\n",
        "embedding_dim = 100\n",
        "test_size = 0.2"
      ]
    },
    {
      "cell_type": "code",
      "execution_count": null,
      "id": "4188d23f",
      "metadata": {
        "id": "4188d23f"
      },
      "outputs": [],
      "source": [
        "# tokenize text\n",
        "tokenizer = Tokenizer(num_words=max_num_words)\n",
        "tokenizer.fit_on_texts(data['clean_text'])\n",
        "sequences = tokenizer.texts_to_sequences(data['clean_text'])"
      ]
    },
    {
      "cell_type": "code",
      "execution_count": null,
      "id": "3e1f6c2c",
      "metadata": {
        "id": "3e1f6c2c"
      },
      "outputs": [],
      "source": [
        "# pad sequences\n",
        "word_index = tokenizer.word_index\n",
        "data_pad = pad_sequences(sequences, maxlen=max_sequence_length)"
      ]
    },
    {
      "cell_type": "code",
      "execution_count": null,
      "id": "ca217cfb",
      "metadata": {
        "id": "ca217cfb"
      },
      "outputs": [],
      "source": [
        "# split data into train and test sets\n",
        "labels = data['label']\n",
        "x_train, x_test, y_train, y_test = train_test_split(data_pad, labels, test_size=test_size, random_state=42)"
      ]
    },
    {
      "cell_type": "code",
      "execution_count": null,
      "id": "40a3bcf5",
      "metadata": {
        "id": "40a3bcf5"
      },
      "outputs": [],
      "source": [
        "# load GloVe embeddings\n",
        "embeddings_index = {}\n",
        "with open('glove.6B.' + str(embedding_dim) + 'd.txt', encoding='utf-8') as f:\n",
        "    for line in f:\n",
        "        values = line.split()\n",
        "        word = values[0]\n",
        "        coefs = np.asarray(values[1:], dtype='float32')\n",
        "        embeddings_index[word] = coefs"
      ]
    },
    {
      "cell_type": "code",
      "execution_count": null,
      "id": "80be91b6",
      "metadata": {
        "id": "80be91b6"
      },
      "outputs": [],
      "source": [
        "# create embedding matrix\n",
        "num_words = min(max_num_words, len(word_index))\n",
        "embedding_matrix = np.zeros((num_words, embedding_dim))\n",
        "for word, i in word_index.items():\n",
        "    if i >= max_num_words:\n",
        "        continue\n",
        "    embedding_vector = embeddings_index.get(word)\n",
        "    if embedding_vector is not None:\n",
        "        embedding_matrix[i] = embedding_vector"
      ]
    },
    {
      "cell_type": "code",
      "execution_count": null,
      "id": "0612ae13",
      "metadata": {
        "id": "0612ae13",
        "outputId": "9290a10b-ff99-410f-ab2c-46487d63c915"
      },
      "outputs": [
        {
          "data": {
            "text/plain": [
              "array([[ 0.        ,  0.        ,  0.        , ...,  0.        ,\n",
              "         0.        ,  0.        ],\n",
              "       [ 0.47073999, -0.10449   , -0.14195   , ..., -0.13700999,\n",
              "        -0.72784001,  0.052566  ],\n",
              "       [ 0.24788   , -0.53342998,  0.52853   , ..., -0.71711999,\n",
              "         0.2527    , -0.0031784 ],\n",
              "       ...,\n",
              "       [ 0.        ,  0.        ,  0.        , ...,  0.        ,\n",
              "         0.        ,  0.        ],\n",
              "       [ 0.        ,  0.        ,  0.        , ...,  0.        ,\n",
              "         0.        ,  0.        ],\n",
              "       [ 0.        ,  0.        ,  0.        , ...,  0.        ,\n",
              "         0.        ,  0.        ]])"
            ]
          },
          "execution_count": 47,
          "metadata": {},
          "output_type": "execute_result"
        }
      ],
      "source": [
        "embedding_matrix"
      ]
    },
    {
      "cell_type": "code",
      "execution_count": null,
      "id": "c0a6cf9b",
      "metadata": {
        "id": "c0a6cf9b"
      },
      "outputs": [],
      "source": [
        "# create model\n",
        "model = Sequential()\n",
        "model.add(Embedding(num_words, embedding_dim, weights=[embedding_matrix], input_length=max_sequence_length, trainable=False))\n",
        "model.add(Conv1D(128, 5, activation='relu'))\n",
        "model.add(MaxPooling1D(5))\n",
        "model.add(Conv1D(128, 5, activation='relu'))\n",
        "model.add(MaxPooling1D(5))\n",
        "model.add(Conv1D(128, 5, activation='relu'))\n",
        "model.add(MaxPooling1D(35))\n",
        "model.add(Flatten())\n",
        "model.add(Dense(128, activation='relu'))\n",
        "model.add(Dropout(0.5))\n",
        "model.add(Dense(1, activation='sigmoid'))"
      ]
    },
    {
      "cell_type": "code",
      "execution_count": null,
      "id": "25f440a5",
      "metadata": {
        "id": "25f440a5",
        "outputId": "39de07db-681a-4a38-d559-86a8f94eecd1"
      },
      "outputs": [
        {
          "name": "stdout",
          "output_type": "stream",
          "text": [
            "Model: \"sequential\"\n",
            "_________________________________________________________________\n",
            " Layer (type)                Output Shape              Param #   \n",
            "=================================================================\n",
            " embedding (Embedding)       (None, 1000, 100)         200000    \n",
            "                                                                 \n",
            " conv1d (Conv1D)             (None, 996, 128)          64128     \n",
            "                                                                 \n",
            " max_pooling1d (MaxPooling1D  (None, 199, 128)         0         \n",
            " )                                                               \n",
            "                                                                 \n",
            " conv1d_1 (Conv1D)           (None, 195, 128)          82048     \n",
            "                                                                 \n",
            " max_pooling1d_1 (MaxPooling  (None, 39, 128)          0         \n",
            " 1D)                                                             \n",
            "                                                                 \n",
            " conv1d_2 (Conv1D)           (None, 35, 128)           82048     \n",
            "                                                                 \n",
            " max_pooling1d_2 (MaxPooling  (None, 1, 128)           0         \n",
            " 1D)                                                             \n",
            "                                                                 \n",
            " flatten (Flatten)           (None, 128)               0         \n",
            "                                                                 \n",
            " dense (Dense)               (None, 128)               16512     \n",
            "                                                                 \n",
            " dropout (Dropout)           (None, 128)               0         \n",
            "                                                                 \n",
            " dense_1 (Dense)             (None, 1)                 129       \n",
            "                                                                 \n",
            "=================================================================\n",
            "Total params: 444,865\n",
            "Trainable params: 244,865\n",
            "Non-trainable params: 200,000\n",
            "_________________________________________________________________\n"
          ]
        }
      ],
      "source": [
        "model.summary()"
      ]
    },
    {
      "cell_type": "code",
      "execution_count": null,
      "id": "7c8780dd",
      "metadata": {
        "id": "7c8780dd"
      },
      "outputs": [],
      "source": [
        "# compile model\n",
        "model.compile(loss='binary_crossentropy', optimizer='adam', metrics=['accuracy'])"
      ]
    },
    {
      "cell_type": "code",
      "execution_count": null,
      "id": "1606e06f",
      "metadata": {
        "id": "1606e06f",
        "outputId": "57257203-1ed7-4dcb-9df8-eedcfaf8aad7"
      },
      "outputs": [
        {
          "name": "stdout",
          "output_type": "stream",
          "text": [
            "Epoch 1/20\n",
            "3/3 [==============================] - 7s 1s/step - loss: 0.6867 - accuracy: 0.5406 - val_loss: 0.6635 - val_accuracy: 0.6875\n",
            "Epoch 2/20\n",
            "3/3 [==============================] - 3s 937ms/step - loss: 0.6650 - accuracy: 0.6094 - val_loss: 0.6496 - val_accuracy: 0.7125\n",
            "Epoch 3/20\n",
            "3/3 [==============================] - 3s 829ms/step - loss: 0.6506 - accuracy: 0.6562 - val_loss: 0.6694 - val_accuracy: 0.6375\n",
            "Epoch 4/20\n",
            "3/3 [==============================] - 2s 772ms/step - loss: 0.6218 - accuracy: 0.6719 - val_loss: 0.6090 - val_accuracy: 0.6875\n",
            "Epoch 5/20\n",
            "3/3 [==============================] - 3s 922ms/step - loss: 0.5766 - accuracy: 0.7094 - val_loss: 0.6128 - val_accuracy: 0.6750\n",
            "Epoch 6/20\n",
            "3/3 [==============================] - 3s 1s/step - loss: 0.4986 - accuracy: 0.7937 - val_loss: 0.5617 - val_accuracy: 0.7250\n",
            "Epoch 7/20\n",
            "3/3 [==============================] - 3s 977ms/step - loss: 0.4034 - accuracy: 0.8500 - val_loss: 0.5732 - val_accuracy: 0.6750\n",
            "Epoch 8/20\n",
            "3/3 [==============================] - 3s 923ms/step - loss: 0.3281 - accuracy: 0.8750 - val_loss: 0.5580 - val_accuracy: 0.7125\n",
            "Epoch 9/20\n",
            "3/3 [==============================] - 2s 788ms/step - loss: 0.2456 - accuracy: 0.9062 - val_loss: 0.5370 - val_accuracy: 0.7375\n",
            "Epoch 10/20\n",
            "3/3 [==============================] - 2s 789ms/step - loss: 0.1733 - accuracy: 0.9500 - val_loss: 0.4939 - val_accuracy: 0.7625\n",
            "Epoch 11/20\n",
            "3/3 [==============================] - 3s 996ms/step - loss: 0.1192 - accuracy: 0.9844 - val_loss: 0.5375 - val_accuracy: 0.7375\n",
            "Epoch 12/20\n",
            "3/3 [==============================] - 3s 869ms/step - loss: 0.0872 - accuracy: 0.9812 - val_loss: 0.7913 - val_accuracy: 0.6875\n",
            "Epoch 13/20\n",
            "3/3 [==============================] - 3s 1s/step - loss: 0.0676 - accuracy: 0.9812 - val_loss: 0.6596 - val_accuracy: 0.7250\n"
          ]
        }
      ],
      "source": [
        "# train model\n",
        "early_stop = EarlyStopping(monitor='val_loss', patience=3)\n",
        "history = model.fit(x_train, y_train, validation_data=(x_test, y_test), epochs=20, batch_size=128, callbacks=[early_stop])"
      ]
    },
    {
      "cell_type": "code",
      "execution_count": null,
      "id": "e485ef8b",
      "metadata": {
        "id": "e485ef8b",
        "outputId": "1c20d9d9-4185-4581-bb9d-e7cde6f43480"
      },
      "outputs": [
        {
          "name": "stdout",
          "output_type": "stream",
          "text": [
            "3/3 [==============================] - 0s 76ms/step - loss: 0.6596 - accuracy: 0.7250\n",
            "Test Loss: 0.6595926880836487\n",
            "Test Accuracy: 0.7250000238418579\n"
          ]
        }
      ],
      "source": [
        "# evaluate model\n",
        "loss, accuracy = model.evaluate(x_test, y_test, verbose=1)\n",
        "print('Test Loss:', loss)\n",
        "print('Test Accuracy:', accuracy)"
      ]
    },
    {
      "cell_type": "code",
      "execution_count": null,
      "id": "4b73aa99",
      "metadata": {
        "id": "4b73aa99",
        "outputId": "2706edc8-cb5f-4657-c3cd-b7adaff1e04a"
      },
      "outputs": [
        {
          "data": {
            "image/png": "[encoded data removed]",
            "text/plain": [
              "<Figure size 640x480 with 1 Axes>"
            ]
          },
          "metadata": {},
          "output_type": "display_data"
        },
        {
          "data": {
            "image/png": "[encoded data removed]",
            "text/plain": [
              "<Figure size 640x480 with 1 Axes>"
            ]
          },
          "metadata": {},
          "output_type": "display_data"
        }
      ],
      "source": [
        "import matplotlib.pyplot as plt\n",
        "\n",
        "# membuat grafik untuk akurasi\n",
        "plt.plot(history.history['accuracy'])\n",
        "plt.plot(history.history['val_accuracy'])\n",
        "plt.title('Model Accuracy')\n",
        "plt.ylabel('Accuracy')\n",
        "plt.xlabel('Epoch')\n",
        "plt.legend(['Train', 'Validation'], loc='upper left')\n",
        "plt.show()\n",
        "\n",
        "# membuat grafik untuk loss\n",
        "plt.plot(history.history['loss'])\n",
        "plt.plot(history.history['val_loss'])\n",
        "plt.title('Model Loss')\n",
        "plt.ylabel('Loss')\n",
        "plt.xlabel('Epoch')\n",
        "plt.legend(['Train', 'Validation'], loc='upper left')\n",
        "plt.show()"
      ]
    },
    {
      "cell_type": "markdown",
      "source": [
        "Model\n",
        "pertama yaitu Naive Bayes dengan featur extraction TF IDF, menghasilkan akurasi dalam penentuan\n",
        "polaritas untuk analisis sentimen sebesar 93.75% Sedangkan akurasi yang dihasilkan model kedua CNN\n",
        "dengan GloVe Word Embedding adalah sebesar 72.5%.\n",
        "\n",
        "*   Jika data teks relatif pendek Model Naive Bayes dengan TF IDF dapat menjadi pilihan yang lebih baik, karena\n",
        "model ini mampu menghasilkan performa yang baik pada data teks yang pendek.\n",
        "*   Jika\n",
        "data teks memiliki struktur yang kompleks Model CNN dengan GloVe Word Embedding dapat menjadi\n",
        "pilihan yang lebih baik, karena model ini mampu menangani data teks dengan berbagai macam struktur\n",
        "seperti kalimat, paragraf, dan dokumen.\n",
        "*   Jika\n",
        "ingin mempelajari fitur fitur yang kompleks dan subtil pada data teks Model CNN dengan GloVe Word\n",
        "Embedding dapat menjadi pilihan yang lebih baik, karena model ini lebih mampu dalam mempelajari fitur\n",
        "fitur yang kompleks dan subtil pada data teks.\n",
        "*   Jika\n",
        "ingin menghindari overfitting Model Naive Bayes dengan TF IDF dapat menjadi pilihan yang lebih baik,\n",
        "karena model ini cenderung lebih tahan terhadap overfitting Namun, harus diperhatikan juga bahwa\n",
        "performa model ini dapat menurun jika terdapat kata kata yang jarang muncul pada data teks.\n",
        "*   Jika\n",
        "ingin mendapatkan representasi kata yang lebih baik Model CNN dengan GloVe Word Embedding dapat\n",
        "menjadi pilihan yang lebih baik, karena GloVe Word Embedding mampu menghasilkan representasi kata yang\n",
        "lebih baik dibandingkan dengan representasi yang dihasilkan oleh metode TF IDF."
      ],
      "metadata": {
        "id": "fOTKnqlu4_he"
      },
      "id": "fOTKnqlu4_he"
    }
  ],
  "metadata": {
    "kernelspec": {
      "display_name": "Python 3 (ipykernel)",
      "language": "python",
      "name": "python3"
    },
    "language_info": {
      "codemirror_mode": {
        "name": "ipython",
        "version": 3
      },
      "file_extension": ".py",
      "mimetype": "text/x-python",
      "name": "python",
      "nbconvert_exporter": "python",
      "pygments_lexer": "ipython3",
      "version": "3.9.16"
    },
    "colab": {
      "provenance": []
    }
  },
  "nbformat": 4,
  "nbformat_minor": 5
}